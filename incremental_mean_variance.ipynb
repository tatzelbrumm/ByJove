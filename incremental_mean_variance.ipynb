{
  "nbformat": 4,
  "nbformat_minor": 0,
  "metadata": {
    "colab": {
      "provenance": [],
      "authorship_tag": "ABX9TyNiyxKlXtXGr8NjnKnWNrBP",
      "include_colab_link": true
    },
    "kernelspec": {
      "name": "python3",
      "display_name": "Python 3"
    },
    "language_info": {
      "name": "python"
    }
  },
  "cells": [
    {
      "cell_type": "markdown",
      "metadata": {
        "id": "view-in-github",
        "colab_type": "text"
      },
      "source": [
        "<a href=\"https://colab.research.google.com/github/tatzelbrumm/ByJove/blob/master/incremental_mean_variance.ipynb\" target=\"_parent\"><img src=\"https://colab.research.google.com/assets/colab-badge.svg\" alt=\"Open In Colab\"/></a>"
      ]
    },
    {
      "cell_type": "markdown",
      "source": [
        "# Incremental mean and variance"
      ],
      "metadata": {
        "id": "Davwazh6cP_x"
      }
    },
    {
      "cell_type": "markdown",
      "source": [
        "Proof-of-concept Jupyter notebook"
      ],
      "metadata": {
        "id": "kdWKClzacaCT"
      }
    },
    {
      "cell_type": "code",
      "source": [
        "class MeanVariance:\n",
        "  def __init__(self, value):\n",
        "    self.avg = value\n",
        "    self.var = 0\n",
        "    self.k = 0\n",
        "    self.j = 1\n",
        "    self.i = 2\n",
        "    self.c = 1\n",
        "    self.d = 1./2\n",
        "\n",
        "  def filter(self, value):\n",
        "    m = self.avg\n",
        "    self.avg = self.d * (self.j * m + value)\n",
        "    dval = value - self.avg\n",
        "    dm = m - self.avg\n",
        "    self.var = self.c * (self.k * self.var + dval*dval) + dm*dm\n",
        "\n",
        "  def accumulate(self, value):\n",
        "    self.filter(value)\n",
        "    self.k = self.j\n",
        "    self.j = self.i\n",
        "    self.c = self.d\n",
        "    self.i = self.j+1\n",
        "    self.d = 1./self.i\n",
        "\n",
        "  def samples(self):\n",
        "    return self.j\n",
        "\n",
        "  def mean(self):\n",
        "    return self.avg\n",
        "\n",
        "  def variance(self):\n",
        "    return self.var"
      ],
      "metadata": {
        "id": "BetFfiW7cY4Q"
      },
      "execution_count": 13,
      "outputs": []
    },
    {
      "cell_type": "code",
      "source": [
        "vitalstatistix = MeanVariance(4)\n",
        "vitalstatistix.accumulate(5)\n",
        "vitalstatistix.accumulate(3)\n",
        "print(vitalstatistix.j)\n",
        "print(vitalstatistix.avg)\n",
        "print(vitalstatistix.var)\n",
        "print(vitalstatistix.samples())\n",
        "print(vitalstatistix.mean())\n",
        "print(vitalstatistix.variance())"
      ],
      "metadata": {
        "id": "H8Xfln8DpvHy",
        "outputId": "b469ed0c-8fb8-4c07-a6d5-e4bd32f2115f",
        "colab": {
          "base_uri": "https://localhost:8080/"
        }
      },
      "execution_count": 14,
      "outputs": [
        {
          "output_type": "stream",
          "name": "stdout",
          "text": [
            "3\n",
            "4.0\n",
            "1.0\n",
            "3\n",
            "4.0\n",
            "1.0\n"
          ]
        }
      ]
    }
  ]
}