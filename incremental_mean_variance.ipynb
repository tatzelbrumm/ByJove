{
 "cells": [
  {
   "cell_type": "markdown",
   "metadata": {
    "colab_type": "text",
    "id": "view-in-github"
   },
   "source": [
    "<a href=\"https://colab.research.google.com/github/tatzelbrumm/ByJove/blob/master/incremental_mean_variance.ipynb\" target=\"_parent\"><img src=\"https://colab.research.google.com/assets/colab-badge.svg\" alt=\"Open In Colab\"/></a>"
   ]
  },
  {
   "cell_type": "markdown",
   "metadata": {
    "id": "Davwazh6cP_x"
   },
   "source": [
    "# Incremental mean and variance"
   ]
  },
  {
   "cell_type": "markdown",
   "metadata": {
    "id": "kdWKClzacaCT"
   },
   "source": [
    "Proof-of-concept Jupyter notebook"
   ]
  },
  {
   "cell_type": "markdown",
   "metadata": {
    "id": "3kGwYtNLtCiq"
   },
   "source": [
    "### Incremental computation of mean"
   ]
  },
  {
   "cell_type": "markdown",
   "metadata": {
    "id": "_2Kq2flg2arU"
   },
   "source": [
    "\\begin{equation}\\bar{x}_n\\equiv \\frac{1}{n}\\sum _{k=1}^n x_k=\\frac{n-1}{n}\\frac{1}{n-1}\\sum _{k=1}^{n-1} x_k+\\frac{x_n}{n}=\\frac{(n-1)\\bar{x}_{n-1}+x_n}{n}\\end{equation}"
   ]
  },
  {
   "cell_type": "markdown",
   "metadata": {
    "id": "oBdCkDhsts0y"
   },
   "source": [
    "### Incremental computation of variance"
   ]
  },
  {
   "cell_type": "markdown",
   "metadata": {
    "id": "jo0wy0R02hF4"
   },
   "source": [
    "\\begin{equation}\n",
    "\\sigma _{x\\, y}{}^2{}_n\\equiv \\frac{1}{n-1}\\sum _{k=1}^n \\left(x_k-\\bar{x}_n\\right)\\left(y_k-\\bar{y}_n\\right)\\\\\n",
    "\\\\\n",
    "=\\frac{1}{n-1}\\sum _{k=1}^{n-1} \\left(x_k-\\bar{x}_n\\right)\\left(y_k-\\bar{y}_n\\right)+\\frac{1}{n-1}\\left(x_n-\\bar{x}_n\\right)\\left(y_n-\\bar{y}_n\\right)\\\\\n",
    "\\\\\n",
    "=\\frac{1}{n-1}\\sum _{k=1}^{n-1} \\left(x_k-\\bar{x}_{n-1}+\\bar{x}_{n-1}-\\bar{x}_n\\right)\\left(y_k-\\bar{y}_{n-1}+\\bar{y}_{n-1}-\\bar{y}_n\\right)+\\frac{1}{n-1}\\left(x_n-\\bar{x}_n\\right)\\left(y_n-\\bar{y}_n\\right)\n",
    "\\end{equation}"
   ]
  },
  {
   "cell_type": "markdown",
   "metadata": {
    "id": "fygGPMZuv9Ol"
   },
   "source": [
    "where\n",
    "\n",
    "\\begin{equation}\n",
    "\\frac{1}{n-1}\\sum _{k=1}^{n-1} \\left(x_k-\\bar{x}_{n-1}+\\bar{x}_{n-1}-\\bar{x}_n\\right)\\left(y_k-\\bar{y}_{n-1}+\\bar{y}_{n-1}-\\bar{y}_n\\right)\\\\\n",
    "\\\\\n",
    "=\\frac{1}{n-1}\\sum _{k=1}^{n-1} \\left(x_k-\\bar{x}_{n-1}\\right)\\left(y_k-\\bar{y}_{n-1}\\right)+\\frac{1}{n-1}\\sum _{k=1}^{n-1} \\left(\\bar{x}_{n-1}-\\bar{x}_n\\right)\\left(\\bar{y}_{n-1}-\\bar{y}_n\\right)+\\frac{1}{n-1}\\sum\n",
    "_{k=1}^{n-1} \\left(x_k-\\bar{x}_{n-1}\\right)\\left(\\bar{y}_{n-1}-\\bar{y}_n\\right)+\\frac{1}{n-1}\\sum _{k=1}^{n-1} \\left(\\bar{x}_{n-1}-\\bar{x}_n\\right)\\left(y_k-\\bar{y}_{n-1}\\right)\\\\\n",
    "\\\\\n",
    "=\\frac{n-2}{n-1}\\frac{1}{n-2}\\sum _{k=1}^{n-1} \\left(x_k-\\bar{x}_{n-1}\\right)\\left(y_k-\\bar{y}_{n-1}\\right)+\\left(\\bar{x}_{n-1}-\\bar{x}_n\\right)\\left(\\bar{y}_{n-1}-\\bar{y}_n\\right)+\\frac{\\bar{y}_{n-1}-\\bar{y}_n}{n-1}\\sum\n",
    "_{k=1}^{n-1} \\left(x_k-\\bar{x}_{n-1}\\right)+\\frac{\\bar{x}_{n-1}-\\bar{x}_n}{n-1}\\sum _{k=1}^{n-1} \\left(y_k-\\bar{y}_{n-1}\\right)\\\\\n",
    "\\\\\n",
    "=\\frac{n-2}{n-1}\\sigma _{xy}{}^2{}_{n-1}+\\left(\\bar{x}_{n-1}-\\bar{x}_n\\right)\\left(\\bar{y}_{n-1}-\\bar{y}_n\\right)+0+0\n",
    "\\end{equation}"
   ]
  },
  {
   "cell_type": "markdown",
   "metadata": {
    "id": "3ybdh2SBwCNC"
   },
   "source": [
    "\\begin{equation}\n",
    "\\sigma _{x\\, y}{}^2{}_n=\\frac{n-2}{n-1}\\sigma _{x\\, y}{}^2{}_{n-1}+\\left(\\bar{x}_{n-1}-\\bar{x}_n\\right)\\left(\\bar{y}_{n-1}-\\bar{y}_n\\right)+\\frac{1}{n-1}\\left(x_n-\\bar{x}_n\\right)\\left(y_n-\\bar{y}_n\\right)\\\\\n",
    "\\\\\n",
    "=\\frac{(n-2)\\sigma _{x\\, y}{}^2{}_{n-1}+\\left(x_n-\\bar{x}_n\\right)\\left(y_n-\\bar{y}_n\\right)}{n-1}+\\left(\\bar{x}_{n-1}-\\bar{x}_n\\right)\\left(\\bar{y}_{n-1}-\\bar{y}_n\\right)\n",
    "\\end{equation}"
   ]
  },
  {
   "cell_type": "markdown",
   "metadata": {
    "id": "EHt02slmwV3m"
   },
   "source": [
    "### Starting condition"
   ]
  },
  {
   "cell_type": "markdown",
   "metadata": {
    "id": "GzLo-jBB2Lp-"
   },
   "source": [
    "$\\sigma ^2{}_1$ is undefined\n",
    "\n",
    "but the equation for $\\sigma ^2{}_2$ yields the correct result for any finite $\\sigma ^2{}_1$:\n",
    "\n",
    "\\begin{equation}\n",
    "\\sigma ^2{}_2=\\left(x_2-\\bar{x}_2\\right){}^2+\\left(x_1-\\bar{x}_2\\right){}^2\\overset{!}{=}\\frac{0\\,\\sigma ^2{}_1+\\left(x_2-\\bar{x}_2\\right){}^2}{1}+\\left(\\bar{x}_1-\\bar{x}_2\\right){}^2\n",
    "\\end{equation}"
   ]
  },
  {
   "cell_type": "markdown",
   "metadata": {
    "id": "asDoWNNV2SrT"
   },
   "source": [
    "so we set\n",
    "\n",
    "\\begin{equation}\n",
    "\\sigma ^2{}_1\\equiv 0\n",
    "\\end{equation}"
   ]
  },
  {
   "cell_type": "markdown",
   "metadata": {
    "id": "Cc5IennFxJ_v"
   },
   "source": [
    "### Incremental mean and variance as filters with constant coefficients\n",
    "\n",
    "If $n$ gets very large, the mean and variance become very insensitive to new data.\n",
    "\n",
    "This can be avoided by limiting the sample index $n$ to be\n",
    "$n\\leq N$."
   ]
  },
  {
   "cell_type": "markdown",
   "metadata": {
    "id": "-DJh0og6yzNu"
   },
   "source": [
    "If we substitute $n$ with $N<n$, we get\n",
    "\n",
    "\\begin{equation}\n",
    "\\bar{x}_n\\approx \\frac{(N-1)\\bar{x}_{n-1}+x_n}{N}\n",
    "\\end{equation}"
   ]
  },
  {
   "cell_type": "markdown",
   "metadata": {
    "id": "joJMa63sy3Z3"
   },
   "source": [
    "and\n",
    "\n",
    "\\begin{equation}\n",
    "\\sigma _{xy}{}^2{}_n\\approx \\frac{(N-2)\\sigma _{x\\, y}{}^2{}_{n-1}+\\left(x_n-\\bar{x}_n\\right)\\left(y_n-\\bar{y}_n\\right)}{N-1}+\\left(\\bar{x}_{n-1}-\\bar{x}_n\\right)\\left(\\bar{y}_{n-1}-\\bar{y}_n\\right)\n",
    "\\end{equation}"
   ]
  },
  {
   "cell_type": "markdown",
   "metadata": {
    "id": "xiMJSsjwy68a"
   },
   "source": [
    "with\n",
    "\n",
    "\\begin{equation}\n",
    "\\left(\\bar{x}_{n-1}-\\bar{x}_n\\right)\\left(\\bar{y}_{n-1}-\\bar{y}_n\\right)=\\left(\\bar{x}_{n-1}-\\frac{(N-1)\\bar{x}_{n-1}+x_n}{N}\\right)\\left(\\bar{y}_{n-1}-\\frac{(N-1)\\bar{y}_{n-1}+y_n}{N}\\right)=\\left(\\frac{\\bar{x}_{n-1}-x_n}{N}\\right)\\left(\\frac{\\bar{y}_{n-1}-y_n}{N}\\right)\n",
    "\\end{equation}"
   ]
  },
  {
   "cell_type": "markdown",
   "metadata": {
    "id": "oWZgNTCGy-Pc"
   },
   "source": [
    "to get\n",
    "\n",
    "\\begin{equation}\n",
    "\\sigma _{xy}{}^2{}_n\\approx \\frac{(N-2)\\sigma _{x\\, y}{}^2{}_{n-1}+\\left(x_n-\\bar{x}_n\\right)\\left(y_n-\\bar{y}_n\\right)}{N-1}+\\left(\\frac{\\bar{x}_{n-1}-x_n}{N}\\right)\\left(\\frac{\\bar{y}_{n-1}-y_n}{N}\\right)\n",
    "\\end{equation}"
   ]
  },
  {
   "cell_type": "markdown",
   "metadata": {
    "id": "s7Z5iZ0uzxKl"
   },
   "source": [
    "### Iterative algorithm with minimal number of computations"
   ]
  },
  {
   "cell_type": "markdown",
   "metadata": {
    "id": "2SP44M5p0IFj"
   },
   "source": [
    "Mean\n",
    "\\begin{equation}\n",
    "\\bar{x}_n\\equiv \\frac{1}{n}\\sum _{k=1}^n x_k=\\frac{n-1}{n}\\frac{1}{n-1}\\sum _{k=1}^{n-1} x_k+\\frac{x_n}{n}=\\frac{(n-1)\\bar{x}_{n-1}+x_n}{n}\n",
    "\\end{equation}"
   ]
  },
  {
   "cell_type": "markdown",
   "metadata": {
    "id": "UCkoqoll0Nku"
   },
   "source": [
    "Variance\n",
    "\\begin{equation}\n",
    "\\sigma ^2{}_n=\\frac{n-2}{n-1}\\sigma ^2{}_{n-1}+\\left(\\bar{x}_{n-1}-\\bar{x}_n\\right){}^2+\\frac{1}{n-1}\\left(x_n-\\bar{x}_n\\right){}^2=\\frac{(n-2)\\sigma\n",
    "^2{}_{n-1}+\\left(x_n-\\bar{x}_n\\right){}^2}{n-1}+\\left(\\bar{x}_{n-1}-\\bar{x}_n\\right){}^2\n",
    "\\end{equation}\n"
   ]
  },
  {
   "cell_type": "markdown",
   "metadata": {
    "id": "2h-X9_t20k5h"
   },
   "source": [
    "### Initialization\n",
    "\n",
    "First pass:\n",
    "\n",
    "$\\bar{x}\\equiv x_1$\n",
    "\n",
    "$\\sigma ^2\\equiv 0$\n",
    "\n",
    "$k\\equiv 0$\n",
    "\n",
    "$j\\equiv 1$\n",
    "\n",
    "$i\\equiv 2$\n",
    "\n",
    "$c\\equiv 1$\n",
    "\n",
    "$d\\equiv \\frac{1}{2}$"
   ]
  },
  {
   "cell_type": "markdown",
   "metadata": {
    "id": "kb_L2Ryg1JIL"
   },
   "source": [
    "### Iteration\n",
    "\n",
    "$m\\equiv \\bar{x}$\n",
    "\n",
    "$\\bar{x}\\equiv d\\left( j\\,m+x_i\\right)$\n",
    "\n",
    "$\\sigma ^2\\equiv c\\left(k\\,\\sigma ^2+\\left(x_i-\\bar{x}\\right){}^2\\right)+\\left(m-\\bar{x}\\right)^2$"
   ]
  },
  {
   "cell_type": "markdown",
   "metadata": {
    "id": "MYhwQmr41cWb"
   },
   "source": [
    "If $i<N$:\n",
    "\n",
    "$k\\equiv j$\n",
    "\n",
    "$j\\equiv i$\n",
    "\n",
    "$c\\equiv d$\n",
    "\n",
    "$i\\equiv j+1$\n",
    "\n",
    "$d\\equiv \\frac{1}{i}$"
   ]
  },
  {
   "cell_type": "markdown",
   "metadata": {
    "id": "Aw889knswofz"
   },
   "source": [
    "## Class definition"
   ]
  },
  {
   "cell_type": "code",
   "execution_count": 1,
   "metadata": {
    "id": "BetFfiW7cY4Q"
   },
   "outputs": [],
   "source": [
    "class MeanVariance:\n",
    "  def __init__(self, value):\n",
    "    self.avg = value\n",
    "    self.var = 0\n",
    "    self.k = 0\n",
    "    self.j = 1\n",
    "    self.i = 2\n",
    "    self.c = 1\n",
    "    self.d = 1./2\n",
    "\n",
    "  def filter(self, value):\n",
    "    m = self.avg\n",
    "    self.avg = self.d * (self.j * m + value)\n",
    "    dval = value - self.avg\n",
    "    dm = m - self.avg\n",
    "    self.var = self.c * (self.k * self.var + dval*dval) + dm*dm\n",
    "\n",
    "  def accumulate(self, value):\n",
    "    self.filter(value)\n",
    "    self.k = self.j\n",
    "    self.j = self.i\n",
    "    self.c = self.d\n",
    "    self.i = self.j+1\n",
    "    self.d = 1./self.i\n",
    "\n",
    "  def samples(self):\n",
    "    return self.j\n",
    "\n",
    "  def mean(self):\n",
    "    return self.avg\n",
    "\n",
    "  def variance(self):\n",
    "    return self.var"
   ]
  },
  {
   "cell_type": "markdown",
   "metadata": {
    "id": "8hRNm87qwuVK"
   },
   "source": [
    "Use case"
   ]
  },
  {
   "cell_type": "code",
   "execution_count": 2,
   "metadata": {
    "id": "H8Xfln8DpvHy"
   },
   "outputs": [],
   "source": [
    "vitalstatistix = MeanVariance(4)\n",
    "vitalstatistix.accumulate(5)\n",
    "vitalstatistix.accumulate(3)"
   ]
  },
  {
   "cell_type": "markdown",
   "metadata": {
    "id": "IRR8f7WOwxvr"
   },
   "source": [
    "Get object properties directly"
   ]
  },
  {
   "cell_type": "code",
   "execution_count": 3,
   "metadata": {
    "colab": {
     "base_uri": "https://localhost:8080/"
    },
    "id": "Gy0pZPbqwL1b",
    "outputId": "548297e4-6c9f-435a-ee0f-3efb27c536aa"
   },
   "outputs": [
    {
     "name": "stdout",
     "output_type": "stream",
     "text": [
      "3\n",
      "4.0\n",
      "1.0\n"
     ]
    }
   ],
   "source": [
    "print(vitalstatistix.j)\n",
    "print(vitalstatistix.avg)\n",
    "print(vitalstatistix.var)"
   ]
  },
  {
   "cell_type": "markdown",
   "metadata": {
    "id": "QRrCAaXkw3JY"
   },
   "source": [
    "Retrieve object properties by methods"
   ]
  },
  {
   "cell_type": "code",
   "execution_count": 4,
   "metadata": {
    "colab": {
     "base_uri": "https://localhost:8080/"
    },
    "id": "2i7gSFLawOQj",
    "outputId": "44d82e33-bd69-4e4f-e78f-1ad3e7e16346"
   },
   "outputs": [
    {
     "name": "stdout",
     "output_type": "stream",
     "text": [
      "3\n",
      "4.0\n",
      "1.0\n"
     ]
    }
   ],
   "source": [
    "print(vitalstatistix.samples())\n",
    "print(vitalstatistix.mean())\n",
    "print(vitalstatistix.variance())"
   ]
  },
  {
   "cell_type": "markdown",
   "metadata": {
    "id": "bzCFqvbJxekr"
   },
   "source": [
    "Another example"
   ]
  },
  {
   "cell_type": "code",
   "execution_count": 5,
   "metadata": {
    "id": "vW8k0Zndxjjn"
   },
   "outputs": [],
   "source": [
    "konstanz = MeanVariance(42)\n",
    "konstanz.accumulate(42)\n",
    "konstanz.accumulate(42)\n",
    "konstanz.accumulate(42)"
   ]
  },
  {
   "cell_type": "code",
   "execution_count": 6,
   "metadata": {
    "colab": {
     "base_uri": "https://localhost:8080/"
    },
    "id": "tANZJdNOx1fq",
    "outputId": "3cc5bcd2-4cbf-415d-d05a-d74da13992cb"
   },
   "outputs": [
    {
     "name": "stdout",
     "output_type": "stream",
     "text": [
      "4\n",
      "42.0\n",
      "0.0\n"
     ]
    }
   ],
   "source": [
    "print(konstanz.samples())\n",
    "print(konstanz.mean())\n",
    "print(konstanz.variance())"
   ]
  },
  {
   "cell_type": "markdown",
   "metadata": {
    "id": "uOUz6nlkyRnT"
   },
   "source": [
    "Back to the first example"
   ]
  },
  {
   "cell_type": "code",
   "execution_count": 7,
   "metadata": {
    "id": "85q11WeoyVEq"
   },
   "outputs": [],
   "source": [
    "vitalstatistix.accumulate(4)\n",
    "vitalstatistix.accumulate(4)\n",
    "vitalstatistix.accumulate(4)\n",
    "vitalstatistix.accumulate(4)"
   ]
  },
  {
   "cell_type": "code",
   "execution_count": 8,
   "metadata": {
    "colab": {
     "base_uri": "https://localhost:8080/"
    },
    "id": "HTWjLOXfyY-h",
    "outputId": "66c16fe3-e7d5-4449-e3c6-d06216292275"
   },
   "outputs": [
    {
     "name": "stdout",
     "output_type": "stream",
     "text": [
      "7\n",
      "4.0\n",
      "0.3333333333333333\n"
     ]
    }
   ],
   "source": [
    "print(vitalstatistix.samples())\n",
    "print(vitalstatistix.mean())\n",
    "print(vitalstatistix.variance())"
   ]
  },
  {
   "cell_type": "markdown",
   "metadata": {
    "id": "AP_KcNIky8dc"
   },
   "source": [
    "Use as filter instead of accumulator"
   ]
  },
  {
   "cell_type": "code",
   "execution_count": 9,
   "metadata": {
    "id": "DB-YzE-QzCEF"
   },
   "outputs": [],
   "source": [
    "vitalstatistix.filter(4)\n",
    "vitalstatistix.filter(4)\n",
    "vitalstatistix.filter(4)\n",
    "vitalstatistix.filter(4)"
   ]
  },
  {
   "cell_type": "code",
   "execution_count": 10,
   "metadata": {
    "colab": {
     "base_uri": "https://localhost:8080/"
    },
    "id": "8q9pHlbrzQSP",
    "outputId": "487aa011-56e5-4a4c-c7b5-4d8f1134fb76"
   },
   "outputs": [
    {
     "name": "stdout",
     "output_type": "stream",
     "text": [
      "7\n",
      "4.0\n",
      "0.17992503123698456\n"
     ]
    }
   ],
   "source": [
    "print(vitalstatistix.samples())\n",
    "print(vitalstatistix.mean())\n",
    "print(vitalstatistix.variance())"
   ]
  }
 ],
 "metadata": {
  "colab": {
   "authorship_tag": "ABX9TyODQYZv607178QVoKxCfQ6i",
   "include_colab_link": true,
   "provenance": []
  },
  "kernelspec": {
   "display_name": "Python 3 (ipykernel)",
   "language": "python",
   "name": "python3"
  },
  "language_info": {
   "codemirror_mode": {
    "name": "ipython",
    "version": 3
   },
   "file_extension": ".py",
   "mimetype": "text/x-python",
   "name": "python",
   "nbconvert_exporter": "python",
   "pygments_lexer": "ipython3",
   "version": "3.10.4"
  }
 },
 "nbformat": 4,
 "nbformat_minor": 1
}
