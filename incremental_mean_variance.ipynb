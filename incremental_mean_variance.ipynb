{
  "nbformat": 4,
  "nbformat_minor": 0,
  "metadata": {
    "colab": {
      "provenance": [],
      "authorship_tag": "ABX9TyNehfvrVpqQtZGyQi6wJPCE",
      "include_colab_link": true
    },
    "kernelspec": {
      "name": "python3",
      "display_name": "Python 3"
    },
    "language_info": {
      "name": "python"
    }
  },
  "cells": [
    {
      "cell_type": "markdown",
      "metadata": {
        "id": "view-in-github",
        "colab_type": "text"
      },
      "source": [
        "<a href=\"https://colab.research.google.com/github/tatzelbrumm/ByJove/blob/master/incremental_mean_variance.ipynb\" target=\"_parent\"><img src=\"https://colab.research.google.com/assets/colab-badge.svg\" alt=\"Open In Colab\"/></a>"
      ]
    },
    {
      "cell_type": "markdown",
      "source": [
        "# Incremental mean and variance"
      ],
      "metadata": {
        "id": "Davwazh6cP_x"
      }
    },
    {
      "cell_type": "markdown",
      "source": [
        "Proof-of-concept Jupyter notebook"
      ],
      "metadata": {
        "id": "kdWKClzacaCT"
      }
    },
    {
      "cell_type": "markdown",
      "source": [
        "Class definition"
      ],
      "metadata": {
        "id": "Aw889knswofz"
      }
    },
    {
      "cell_type": "code",
      "source": [
        "class MeanVariance:\n",
        "  def __init__(self, value):\n",
        "    self.avg = value\n",
        "    self.var = 0\n",
        "    self.k = 0\n",
        "    self.j = 1\n",
        "    self.i = 2\n",
        "    self.c = 1\n",
        "    self.d = 1./2\n",
        "\n",
        "  def filter(self, value):\n",
        "    m = self.avg\n",
        "    self.avg = self.d * (self.j * m + value)\n",
        "    dval = value - self.avg\n",
        "    dm = m - self.avg\n",
        "    self.var = self.c * (self.k * self.var + dval*dval) + dm*dm\n",
        "\n",
        "  def accumulate(self, value):\n",
        "    self.filter(value)\n",
        "    self.k = self.j\n",
        "    self.j = self.i\n",
        "    self.c = self.d\n",
        "    self.i = self.j+1\n",
        "    self.d = 1./self.i\n",
        "\n",
        "  def samples(self):\n",
        "    return self.j\n",
        "\n",
        "  def mean(self):\n",
        "    return self.avg\n",
        "\n",
        "  def variance(self):\n",
        "    return self.var"
      ],
      "metadata": {
        "id": "BetFfiW7cY4Q"
      },
      "execution_count": 1,
      "outputs": []
    },
    {
      "cell_type": "markdown",
      "source": [
        "Use case"
      ],
      "metadata": {
        "id": "8hRNm87qwuVK"
      }
    },
    {
      "cell_type": "code",
      "source": [
        "vitalstatistix = MeanVariance(4)\n",
        "vitalstatistix.accumulate(5)\n",
        "vitalstatistix.accumulate(3)"
      ],
      "metadata": {
        "id": "H8Xfln8DpvHy"
      },
      "execution_count": 2,
      "outputs": []
    },
    {
      "cell_type": "markdown",
      "source": [
        "Get object properties directly"
      ],
      "metadata": {
        "id": "IRR8f7WOwxvr"
      }
    },
    {
      "cell_type": "code",
      "source": [
        "print(vitalstatistix.j)\n",
        "print(vitalstatistix.avg)\n",
        "print(vitalstatistix.var)"
      ],
      "metadata": {
        "colab": {
          "base_uri": "https://localhost:8080/"
        },
        "id": "Gy0pZPbqwL1b",
        "outputId": "59b136d6-1dbe-47ba-fcb0-5362347ee2d6"
      },
      "execution_count": 3,
      "outputs": [
        {
          "output_type": "stream",
          "name": "stdout",
          "text": [
            "3\n",
            "4.0\n",
            "1.0\n"
          ]
        }
      ]
    },
    {
      "cell_type": "markdown",
      "source": [
        "Retrieve object properties by methods"
      ],
      "metadata": {
        "id": "QRrCAaXkw3JY"
      }
    },
    {
      "cell_type": "code",
      "source": [
        "print(vitalstatistix.samples())\n",
        "print(vitalstatistix.mean())\n",
        "print(vitalstatistix.variance())"
      ],
      "metadata": {
        "colab": {
          "base_uri": "https://localhost:8080/"
        },
        "id": "2i7gSFLawOQj",
        "outputId": "6b62c512-5686-42ff-e11e-1f805bc34821"
      },
      "execution_count": 4,
      "outputs": [
        {
          "output_type": "stream",
          "name": "stdout",
          "text": [
            "3\n",
            "4.0\n",
            "1.0\n"
          ]
        }
      ]
    },
    {
      "cell_type": "markdown",
      "source": [
        "Another example"
      ],
      "metadata": {
        "id": "bzCFqvbJxekr"
      }
    },
    {
      "cell_type": "code",
      "source": [
        "konstanz = MeanVariance(8)\n",
        "konstanz.accumulate(8)\n",
        "konstanz.accumulate(8)\n",
        "konstanz.accumulate(8)"
      ],
      "metadata": {
        "id": "vW8k0Zndxjjn"
      },
      "execution_count": 5,
      "outputs": []
    },
    {
      "cell_type": "code",
      "source": [
        "print(konstanz.samples())\n",
        "print(konstanz.mean())\n",
        "print(konstanz.variance())"
      ],
      "metadata": {
        "colab": {
          "base_uri": "https://localhost:8080/"
        },
        "id": "tANZJdNOx1fq",
        "outputId": "0738da2c-3d73-4c42-c14f-75d2479a7873"
      },
      "execution_count": 6,
      "outputs": [
        {
          "output_type": "stream",
          "name": "stdout",
          "text": [
            "4\n",
            "8.0\n",
            "0.0\n"
          ]
        }
      ]
    },
    {
      "cell_type": "markdown",
      "source": [
        "Back to the first example"
      ],
      "metadata": {
        "id": "uOUz6nlkyRnT"
      }
    },
    {
      "cell_type": "code",
      "source": [
        "vitalstatistix.accumulate(4)\n",
        "vitalstatistix.accumulate(4)\n",
        "vitalstatistix.accumulate(4)\n",
        "vitalstatistix.accumulate(4)"
      ],
      "metadata": {
        "id": "85q11WeoyVEq"
      },
      "execution_count": 7,
      "outputs": []
    },
    {
      "cell_type": "code",
      "source": [
        "print(vitalstatistix.samples())\n",
        "print(vitalstatistix.mean())\n",
        "print(vitalstatistix.variance())"
      ],
      "metadata": {
        "colab": {
          "base_uri": "https://localhost:8080/"
        },
        "id": "HTWjLOXfyY-h",
        "outputId": "7ff05b61-be18-4be3-80c7-2551c4ae3e0e"
      },
      "execution_count": 8,
      "outputs": [
        {
          "output_type": "stream",
          "name": "stdout",
          "text": [
            "7\n",
            "4.0\n",
            "0.3333333333333333\n"
          ]
        }
      ]
    },
    {
      "cell_type": "markdown",
      "source": [
        "Use as filter instead of accumulator"
      ],
      "metadata": {
        "id": "AP_KcNIky8dc"
      }
    },
    {
      "cell_type": "code",
      "source": [
        "vitalstatistix.filter(4)\n",
        "vitalstatistix.filter(4)\n",
        "vitalstatistix.filter(4)\n",
        "vitalstatistix.filter(4)"
      ],
      "metadata": {
        "id": "DB-YzE-QzCEF"
      },
      "execution_count": 9,
      "outputs": []
    },
    {
      "cell_type": "code",
      "source": [
        "print(vitalstatistix.samples())\n",
        "print(vitalstatistix.mean())\n",
        "print(vitalstatistix.variance())"
      ],
      "metadata": {
        "id": "8q9pHlbrzQSP",
        "outputId": "1307558a-3c40-47e4-e214-c4a8ef51fc29",
        "colab": {
          "base_uri": "https://localhost:8080/"
        }
      },
      "execution_count": 10,
      "outputs": [
        {
          "output_type": "stream",
          "name": "stdout",
          "text": [
            "7\n",
            "4.0\n",
            "0.17992503123698456\n"
          ]
        }
      ]
    }
  ]
}