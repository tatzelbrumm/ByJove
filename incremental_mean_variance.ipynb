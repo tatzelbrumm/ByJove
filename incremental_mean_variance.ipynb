{
  "nbformat": 4,
  "nbformat_minor": 0,
  "metadata": {
    "colab": {
      "provenance": [],
      "authorship_tag": "ABX9TyOohl1yuw2h7yhZIP89QQhw",
      "include_colab_link": true
    },
    "kernelspec": {
      "name": "python3",
      "display_name": "Python 3"
    },
    "language_info": {
      "name": "python"
    }
  },
  "cells": [
    {
      "cell_type": "markdown",
      "metadata": {
        "id": "view-in-github",
        "colab_type": "text"
      },
      "source": [
        "<a href=\"https://colab.research.google.com/github/tatzelbrumm/ByJove/blob/master/incremental_mean_variance.ipynb\" target=\"_parent\"><img src=\"https://colab.research.google.com/assets/colab-badge.svg\" alt=\"Open In Colab\"/></a>"
      ]
    },
    {
      "cell_type": "markdown",
      "source": [
        "# Incremental mean and variance"
      ],
      "metadata": {
        "id": "Davwazh6cP_x"
      }
    },
    {
      "cell_type": "markdown",
      "source": [
        "Proof-of-concept Jupyter notebook"
      ],
      "metadata": {
        "id": "kdWKClzacaCT"
      }
    },
    {
      "cell_type": "code",
      "source": [
        "class MeanVariance:\n",
        "  def __init__(value):\n",
        "    self.mean = value\n",
        "    self.variance = 0\n",
        "    self.k = 0\n",
        "    self.j = 1\n",
        "    self.i = 2\n",
        "    self.c = 1\n",
        "    self.d = 1./2\n",
        "\n",
        "  def filter(value):\n",
        "    m = self.mean\n",
        "    self.mean = self.d * (self.j * m + value)\n",
        "    dval = value - self.mean\n",
        "    dm = m - self.mean\n",
        "    self.variance = self.c * (self.k * self.variance + dval*dval) + dm*dm\n",
        "\n",
        "  def accumulate(value):\n",
        "    filter(value)\n",
        "    self.k = self.j\n",
        "    self.j = self.i\n",
        "    self.c = self.d\n",
        "    self.i = self.j+1\n",
        "    self.d = 1./self.i\n",
        "\n",
        "  def samples():\n",
        "    return self.j\n",
        "\n",
        "  def mean():\n",
        "    return self.mean\n",
        "\n",
        "  def variance():\n",
        "    return self.variance"
      ],
      "metadata": {
        "id": "BetFfiW7cY4Q"
      },
      "execution_count": null,
      "outputs": []
    },
    {
      "cell_type": "code",
      "source": [],
      "metadata": {
        "id": "H8Xfln8DpvHy"
      },
      "execution_count": null,
      "outputs": []
    }
  ]
}