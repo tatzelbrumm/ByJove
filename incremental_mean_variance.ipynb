{
  "nbformat": 4,
  "nbformat_minor": 0,
  "metadata": {
    "colab": {
      "provenance": [],
      "authorship_tag": "ABX9TyODQYZv607178QVoKxCfQ6i",
      "include_colab_link": true
    },
    "kernelspec": {
      "name": "python3",
      "display_name": "Python 3"
    },
    "language_info": {
      "name": "python"
    }
  },
  "cells": [
    {
      "cell_type": "markdown",
      "metadata": {
        "id": "view-in-github",
        "colab_type": "text"
      },
      "source": [
        "<a href=\"https://colab.research.google.com/github/tatzelbrumm/ByJove/blob/master/incremental_mean_variance.ipynb\" target=\"_parent\"><img src=\"https://colab.research.google.com/assets/colab-badge.svg\" alt=\"Open In Colab\"/></a>"
      ]
    },
    {
      "cell_type": "markdown",
      "source": [
        "# Incremental mean and variance"
      ],
      "metadata": {
        "id": "Davwazh6cP_x"
      }
    },
    {
      "cell_type": "markdown",
      "source": [
        "Proof-of-concept Jupyter notebook"
      ],
      "metadata": {
        "id": "kdWKClzacaCT"
      }
    },
    {
      "cell_type": "markdown",
      "source": [
        "### Incremental computation of mean"
      ],
      "metadata": {
        "id": "3kGwYtNLtCiq"
      }
    },
    {
      "cell_type": "markdown",
      "source": [
        "\\begin{equation}\\bar{x}_n\\equiv \\frac{1}{n}\\sum _{k=1}^n x_k=\\frac{n-1}{n}\\frac{1}{n-1}\\sum _{k=1}^{n-1} x_k+\\frac{x_n}{n}=\\frac{(n-1)\\bar{x}_{n-1}+x_n}{n}\\end{equation}"
      ],
      "metadata": {
        "id": "_2Kq2flg2arU"
      }
    },
    {
      "cell_type": "markdown",
      "source": [
        "### Incremental computation of variance"
      ],
      "metadata": {
        "id": "oBdCkDhsts0y"
      }
    },
    {
      "cell_type": "markdown",
      "source": [
        "\\begin{equation}\n",
        "\\sigma _{x\\, y}{}^2{}_n\\equiv \\frac{1}{n-1}\\sum _{k=1}^n \\left(x_k-\\bar{x}_n\\right)\\left(y_k-\\bar{y}_n\\right)\\\\\n",
        "\\\\\n",
        "=\\frac{1}{n-1}\\sum _{k=1}^{n-1} \\left(x_k-\\bar{x}_n\\right)\\left(y_k-\\bar{y}_n\\right)+\\frac{1}{n-1}\\left(x_n-\\bar{x}_n\\right)\\left(y_n-\\bar{y}_n\\right)\\\\\n",
        "\\\\\n",
        "=\\frac{1}{n-1}\\sum _{k=1}^{n-1} \\left(x_k-\\bar{x}_{n-1}+\\bar{x}_{n-1}-\\bar{x}_n\\right)\\left(y_k-\\bar{y}_{n-1}+\\bar{y}_{n-1}-\\bar{y}_n\\right)+\\frac{1}{n-1}\\left(x_n-\\bar{x}_n\\right)\\left(y_n-\\bar{y}_n\\right)\n",
        "\\end{equation}"
      ],
      "metadata": {
        "id": "jo0wy0R02hF4"
      }
    },
    {
      "cell_type": "markdown",
      "source": [
        "where\n",
        "\n",
        "\\begin{equation}\n",
        "\\frac{1}{n-1}\\sum _{k=1}^{n-1} \\left(x_k-\\bar{x}_{n-1}+\\bar{x}_{n-1}-\\bar{x}_n\\right)\\left(y_k-\\bar{y}_{n-1}+\\bar{y}_{n-1}-\\bar{y}_n\\right)\\\\\n",
        "\\\\\n",
        "=\\frac{1}{n-1}\\sum _{k=1}^{n-1} \\left(x_k-\\bar{x}_{n-1}\\right)\\left(y_k-\\bar{y}_{n-1}\\right)+\\frac{1}{n-1}\\sum _{k=1}^{n-1} \\left(\\bar{x}_{n-1}-\\bar{x}_n\\right)\\left(\\bar{y}_{n-1}-\\bar{y}_n\\right)+\\frac{1}{n-1}\\sum\n",
        "_{k=1}^{n-1} \\left(x_k-\\bar{x}_{n-1}\\right)\\left(\\bar{y}_{n-1}-\\bar{y}_n\\right)+\\frac{1}{n-1}\\sum _{k=1}^{n-1} \\left(\\bar{x}_{n-1}-\\bar{x}_n\\right)\\left(y_k-\\bar{y}_{n-1}\\right)\\\\\n",
        "\\\\\n",
        "=\\frac{n-2}{n-1}\\frac{1}{n-2}\\sum _{k=1}^{n-1} \\left(x_k-\\bar{x}_{n-1}\\right)\\left(y_k-\\bar{y}_{n-1}\\right)+\\left(\\bar{x}_{n-1}-\\bar{x}_n\\right)\\left(\\bar{y}_{n-1}-\\bar{y}_n\\right)+\\frac{\\bar{y}_{n-1}-\\bar{y}_n}{n-1}\\sum\n",
        "_{k=1}^{n-1} \\left(x_k-\\bar{x}_{n-1}\\right)+\\frac{\\bar{x}_{n-1}-\\bar{x}_n}{n-1}\\sum _{k=1}^{n-1} \\left(y_k-\\bar{y}_{n-1}\\right)\\\\\n",
        "\\\\\n",
        "=\\frac{n-2}{n-1}\\sigma _{xy}{}^2{}_{n-1}+\\left(\\bar{x}_{n-1}-\\bar{x}_n\\right)\\left(\\bar{y}_{n-1}-\\bar{y}_n\\right)+0+0\n",
        "\\end{equation}"
      ],
      "metadata": {
        "id": "fygGPMZuv9Ol"
      }
    },
    {
      "cell_type": "markdown",
      "source": [
        "\\begin{equation}\n",
        "\\sigma _{x\\, y}{}^2{}_n=\\frac{n-2}{n-1}\\sigma _{x\\, y}{}^2{}_{n-1}+\\left(\\bar{x}_{n-1}-\\bar{x}_n\\right)\\left(\\bar{y}_{n-1}-\\bar{y}_n\\right)+\\frac{1}{n-1}\\left(x_n-\\bar{x}_n\\right)\\left(y_n-\\bar{y}_n\\right)\\\\\n",
        "\\\\\n",
        "=\\frac{(n-2)\\sigma _{x\\, y}{}^2{}_{n-1}+\\left(x_n-\\bar{x}_n\\right)\\left(y_n-\\bar{y}_n\\right)}{n-1}+\\left(\\bar{x}_{n-1}-\\bar{x}_n\\right)\\left(\\bar{y}_{n-1}-\\bar{y}_n\\right)\n",
        "\\end{equation}"
      ],
      "metadata": {
        "id": "3ybdh2SBwCNC"
      }
    },
    {
      "cell_type": "markdown",
      "source": [
        "### Starting condition"
      ],
      "metadata": {
        "id": "EHt02slmwV3m"
      }
    },
    {
      "cell_type": "markdown",
      "source": [
        "$\\sigma ^2{}_1$ is undefined\n",
        "\n",
        "but the equation for $\\sigma ^2{}_2$ yields the correct result for any finite $\\sigma ^2{}_1$:\n",
        "\n",
        "\\begin{equation}\n",
        "\\sigma ^2{}_2=\\left(x_2-\\bar{x}_2\\right){}^2+\\left(x_1-\\bar{x}_2\\right){}^2\\overset{!}{=}\\frac{0\\,\\sigma ^2{}_1+\\left(x_2-\\bar{x}_2\\right){}^2}{1}+\\left(\\bar{x}_1-\\bar{x}_2\\right){}^2\n",
        "\\end{equation}"
      ],
      "metadata": {
        "id": "GzLo-jBB2Lp-"
      }
    },
    {
      "cell_type": "markdown",
      "source": [
        "so we set\n",
        "\n",
        "\\begin{equation}\n",
        "\\sigma ^2{}_1\\equiv 0\n",
        "\\end{equation}"
      ],
      "metadata": {
        "id": "asDoWNNV2SrT"
      }
    },
    {
      "cell_type": "markdown",
      "source": [
        "### Incremental mean and variance as filters with constant coefficients\n",
        "\n",
        "If $n$ gets very large, the mean and variance become very insensitive to new data.\n",
        "\n",
        "This can be avoided by limiting the sample index $n$ to be\n",
        "$n\\leq N$."
      ],
      "metadata": {
        "id": "Cc5IennFxJ_v"
      }
    },
    {
      "cell_type": "markdown",
      "source": [
        "If we substitute $n$ with $N<n$, we get\n",
        "\n",
        "\\begin{equation}\n",
        "\\bar{x}_n\\approx \\frac{(N-1)\\bar{x}_{n-1}+x_n}{N}\n",
        "\\end{equation}"
      ],
      "metadata": {
        "id": "-DJh0og6yzNu"
      }
    },
    {
      "cell_type": "markdown",
      "source": [
        "and\n",
        "\n",
        "\\begin{equation}\n",
        "\\sigma _{xy}{}^2{}_n\\approx \\frac{(N-2)\\sigma _{x\\, y}{}^2{}_{n-1}+\\left(x_n-\\bar{x}_n\\right)\\left(y_n-\\bar{y}_n\\right)}{N-1}+\\left(\\bar{x}_{n-1}-\\bar{x}_n\\right)\\left(\\bar{y}_{n-1}-\\bar{y}_n\\right)\n",
        "\\end{equation}"
      ],
      "metadata": {
        "id": "joJMa63sy3Z3"
      }
    },
    {
      "cell_type": "markdown",
      "source": [
        "with\n",
        "\n",
        "\\begin{equation}\n",
        "\\left(\\bar{x}_{n-1}-\\bar{x}_n\\right)\\left(\\bar{y}_{n-1}-\\bar{y}_n\\right)=\\left(\\bar{x}_{n-1}-\\frac{(N-1)\\bar{x}_{n-1}+x_n}{N}\\right)\\left(\\bar{y}_{n-1}-\\frac{(N-1)\\bar{y}_{n-1}+y_n}{N}\\right)=\\left(\\frac{\\bar{x}_{n-1}-x_n}{N}\\right)\\left(\\frac{\\bar{y}_{n-1}-y_n}{N}\\right)\n",
        "\\end{equation}"
      ],
      "metadata": {
        "id": "xiMJSsjwy68a"
      }
    },
    {
      "cell_type": "markdown",
      "source": [
        "to get\n",
        "\n",
        "\\begin{equation}\n",
        "\\sigma _{xy}{}^2{}_n\\approx \\frac{(N-2)\\sigma _{x\\, y}{}^2{}_{n-1}+\\left(x_n-\\bar{x}_n\\right)\\left(y_n-\\bar{y}_n\\right)}{N-1}+\\left(\\frac{\\bar{x}_{n-1}-x_n}{N}\\right)\\left(\\frac{\\bar{y}_{n-1}-y_n}{N}\\right)\n",
        "\\end{equation}"
      ],
      "metadata": {
        "id": "oWZgNTCGy-Pc"
      }
    },
    {
      "cell_type": "markdown",
      "source": [
        "### Iterative algorithm with minimal number of computations"
      ],
      "metadata": {
        "id": "s7Z5iZ0uzxKl"
      }
    },
    {
      "cell_type": "markdown",
      "source": [
        "Mean\n",
        "\\begin{equation}\n",
        "\\bar{x}_n\\equiv \\frac{1}{n}\\sum _{k=1}^n x_k=\\frac{n-1}{n}\\frac{1}{n-1}\\sum _{k=1}^{n-1} x_k+\\frac{x_n}{n}=\\frac{(n-1)\\bar{x}_{n-1}+x_n}{n}\n",
        "\\end{equation}"
      ],
      "metadata": {
        "id": "2SP44M5p0IFj"
      }
    },
    {
      "cell_type": "markdown",
      "source": [
        "Variance\n",
        "\\begin{equation}\n",
        "\\sigma ^2{}_n=\\frac{n-2}{n-1}\\sigma ^2{}_{n-1}+\\left(\\bar{x}_{n-1}-\\bar{x}_n\\right){}^2+\\frac{1}{n-1}\\left(x_n-\\bar{x}_n\\right){}^2=\\frac{(n-2)\\sigma\n",
        "^2{}_{n-1}+\\left(x_n-\\bar{x}_n\\right){}^2}{n-1}+\\left(\\bar{x}_{n-1}-\\bar{x}_n\\right){}^2\n",
        "\\end{equation}\n"
      ],
      "metadata": {
        "id": "UCkoqoll0Nku"
      }
    },
    {
      "cell_type": "markdown",
      "source": [
        "### Initialization\n",
        "\n",
        "First pass:\n",
        "\n",
        "$\\bar{x}\\equiv x_1$\n",
        "\n",
        "$\\sigma ^2\\equiv 0$\n",
        "\n",
        "$k\\equiv 0$\n",
        "\n",
        "$j\\equiv 1$\n",
        "\n",
        "$i\\equiv 2$\n",
        "\n",
        "$c\\equiv 1$\n",
        "\n",
        "$d\\equiv \\frac{1}{2}$"
      ],
      "metadata": {
        "id": "2h-X9_t20k5h"
      }
    },
    {
      "cell_type": "markdown",
      "source": [
        "### Iteration\n",
        "\n",
        "$m\\equiv \\bar{x}$\n",
        "\n",
        "$\\bar{x}\\equiv d\\left( j\\,m+x_i\\right)$\n",
        "\n",
        "$\\sigma ^2\\equiv c\\left(k\\,\\sigma ^2+\\left(x_i-\\bar{x}\\right){}^2\\right)+\\left(m-\\bar{x}\\right)^2$"
      ],
      "metadata": {
        "id": "kb_L2Ryg1JIL"
      }
    },
    {
      "cell_type": "markdown",
      "source": [
        "If $i<N$:\n",
        "\n",
        "$k\\equiv j$\n",
        "\n",
        "$j\\equiv i$\n",
        "\n",
        "$c\\equiv d$\n",
        "\n",
        "$i\\equiv j+1$\n",
        "\n",
        "$d\\equiv \\frac{1}{i}$"
      ],
      "metadata": {
        "id": "MYhwQmr41cWb"
      }
    },
    {
      "cell_type": "markdown",
      "source": [
        "## Class definition"
      ],
      "metadata": {
        "id": "Aw889knswofz"
      }
    },
    {
      "cell_type": "code",
      "source": [
        "class MeanVariance:\n",
        "  def __init__(self, value):\n",
        "    self.avg = value\n",
        "    self.var = 0\n",
        "    self.k = 0\n",
        "    self.j = 1\n",
        "    self.i = 2\n",
        "    self.c = 1\n",
        "    self.d = 1./2\n",
        "\n",
        "  def filter(self, value):\n",
        "    m = self.avg\n",
        "    self.avg = self.d * (self.j * m + value)\n",
        "    dval = value - self.avg\n",
        "    dm = m - self.avg\n",
        "    self.var = self.c * (self.k * self.var + dval*dval) + dm*dm\n",
        "\n",
        "  def accumulate(self, value):\n",
        "    self.filter(value)\n",
        "    self.k = self.j\n",
        "    self.j = self.i\n",
        "    self.c = self.d\n",
        "    self.i = self.j+1\n",
        "    self.d = 1./self.i\n",
        "\n",
        "  def samples(self):\n",
        "    return self.j\n",
        "\n",
        "  def mean(self):\n",
        "    return self.avg\n",
        "\n",
        "  def variance(self):\n",
        "    return self.var"
      ],
      "metadata": {
        "id": "BetFfiW7cY4Q"
      },
      "execution_count": 1,
      "outputs": []
    },
    {
      "cell_type": "markdown",
      "source": [
        "Use case"
      ],
      "metadata": {
        "id": "8hRNm87qwuVK"
      }
    },
    {
      "cell_type": "code",
      "source": [
        "vitalstatistix = MeanVariance(4)\n",
        "vitalstatistix.accumulate(5)\n",
        "vitalstatistix.accumulate(3)"
      ],
      "metadata": {
        "id": "H8Xfln8DpvHy"
      },
      "execution_count": 2,
      "outputs": []
    },
    {
      "cell_type": "markdown",
      "source": [
        "Get object properties directly"
      ],
      "metadata": {
        "id": "IRR8f7WOwxvr"
      }
    },
    {
      "cell_type": "code",
      "source": [
        "print(vitalstatistix.j)\n",
        "print(vitalstatistix.avg)\n",
        "print(vitalstatistix.var)"
      ],
      "metadata": {
        "colab": {
          "base_uri": "https://localhost:8080/"
        },
        "id": "Gy0pZPbqwL1b",
        "outputId": "548297e4-6c9f-435a-ee0f-3efb27c536aa"
      },
      "execution_count": 3,
      "outputs": [
        {
          "output_type": "stream",
          "name": "stdout",
          "text": [
            "3\n",
            "4.0\n",
            "1.0\n"
          ]
        }
      ]
    },
    {
      "cell_type": "markdown",
      "source": [
        "Retrieve object properties by methods"
      ],
      "metadata": {
        "id": "QRrCAaXkw3JY"
      }
    },
    {
      "cell_type": "code",
      "source": [
        "print(vitalstatistix.samples())\n",
        "print(vitalstatistix.mean())\n",
        "print(vitalstatistix.variance())"
      ],
      "metadata": {
        "colab": {
          "base_uri": "https://localhost:8080/"
        },
        "id": "2i7gSFLawOQj",
        "outputId": "44d82e33-bd69-4e4f-e78f-1ad3e7e16346"
      },
      "execution_count": 4,
      "outputs": [
        {
          "output_type": "stream",
          "name": "stdout",
          "text": [
            "3\n",
            "4.0\n",
            "1.0\n"
          ]
        }
      ]
    },
    {
      "cell_type": "markdown",
      "source": [
        "Another example"
      ],
      "metadata": {
        "id": "bzCFqvbJxekr"
      }
    },
    {
      "cell_type": "code",
      "source": [
        "konstanz = MeanVariance(8)\n",
        "konstanz.accumulate(8)\n",
        "konstanz.accumulate(8)\n",
        "konstanz.accumulate(8)"
      ],
      "metadata": {
        "id": "vW8k0Zndxjjn"
      },
      "execution_count": 5,
      "outputs": []
    },
    {
      "cell_type": "code",
      "source": [
        "print(konstanz.samples())\n",
        "print(konstanz.mean())\n",
        "print(konstanz.variance())"
      ],
      "metadata": {
        "colab": {
          "base_uri": "https://localhost:8080/"
        },
        "id": "tANZJdNOx1fq",
        "outputId": "3cc5bcd2-4cbf-415d-d05a-d74da13992cb"
      },
      "execution_count": 6,
      "outputs": [
        {
          "output_type": "stream",
          "name": "stdout",
          "text": [
            "4\n",
            "8.0\n",
            "0.0\n"
          ]
        }
      ]
    },
    {
      "cell_type": "markdown",
      "source": [
        "Back to the first example"
      ],
      "metadata": {
        "id": "uOUz6nlkyRnT"
      }
    },
    {
      "cell_type": "code",
      "source": [
        "vitalstatistix.accumulate(4)\n",
        "vitalstatistix.accumulate(4)\n",
        "vitalstatistix.accumulate(4)\n",
        "vitalstatistix.accumulate(4)"
      ],
      "metadata": {
        "id": "85q11WeoyVEq"
      },
      "execution_count": 7,
      "outputs": []
    },
    {
      "cell_type": "code",
      "source": [
        "print(vitalstatistix.samples())\n",
        "print(vitalstatistix.mean())\n",
        "print(vitalstatistix.variance())"
      ],
      "metadata": {
        "colab": {
          "base_uri": "https://localhost:8080/"
        },
        "id": "HTWjLOXfyY-h",
        "outputId": "66c16fe3-e7d5-4449-e3c6-d06216292275"
      },
      "execution_count": 8,
      "outputs": [
        {
          "output_type": "stream",
          "name": "stdout",
          "text": [
            "7\n",
            "4.0\n",
            "0.3333333333333333\n"
          ]
        }
      ]
    },
    {
      "cell_type": "markdown",
      "source": [
        "Use as filter instead of accumulator"
      ],
      "metadata": {
        "id": "AP_KcNIky8dc"
      }
    },
    {
      "cell_type": "code",
      "source": [
        "vitalstatistix.filter(4)\n",
        "vitalstatistix.filter(4)\n",
        "vitalstatistix.filter(4)\n",
        "vitalstatistix.filter(4)"
      ],
      "metadata": {
        "id": "DB-YzE-QzCEF"
      },
      "execution_count": 9,
      "outputs": []
    },
    {
      "cell_type": "code",
      "source": [
        "print(vitalstatistix.samples())\n",
        "print(vitalstatistix.mean())\n",
        "print(vitalstatistix.variance())"
      ],
      "metadata": {
        "id": "8q9pHlbrzQSP",
        "outputId": "487aa011-56e5-4a4c-c7b5-4d8f1134fb76",
        "colab": {
          "base_uri": "https://localhost:8080/"
        }
      },
      "execution_count": 10,
      "outputs": [
        {
          "output_type": "stream",
          "name": "stdout",
          "text": [
            "7\n",
            "4.0\n",
            "0.17992503123698456\n"
          ]
        }
      ]
    }
  ]
}